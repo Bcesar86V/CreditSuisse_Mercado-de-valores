{
  "cells": [
    {
      "cell_type": "markdown",
      "source": [
        "### Importando librerias y funciones"
      ],
      "metadata": {
        "id": "CKX3LmW0fzBv"
      }
    },
    {
      "cell_type": "code",
      "execution_count": 136,
      "metadata": {
        "id": "8OC25j6H2jzQ"
      },
      "outputs": [],
      "source": [
        "import numpy as np\n",
        "import matplotlib.pyplot as plt\n",
        "from matplotlib.pyplot import figure\n",
        "import pandas as pd\n",
        "import torch\n",
        "import torch.nn as nn\n",
        "from torch.autograd import Variable\n",
        "from sklearn.preprocessing import MinMaxScaler\n",
        "from sklearn.metrics import mean_squared_error, mean_absolute_error\n",
        "from sklearn.model_selection import RandomizedSearchCV\n",
        "from datetime import datetime, timedelta, date\n",
        "import pandas_datareader.data as web"
      ]
    },
    {
      "cell_type": "markdown",
      "source": [
        "### Cargando la base de datos"
      ],
      "metadata": {
        "id": "C-GSEzC9f5il"
      }
    },
    {
      "cell_type": "code",
      "execution_count": 137,
      "metadata": {
        "id": "XWsWqKVB2wmD"
      },
      "outputs": [],
      "source": [
        "training_set = pd.read_csv('CSGN.SW.csv', sep=',')\n",
        "training_set['Date']\n",
        "training_set['Date']=pd.to_datetime(training_set['Date'], format='%Y-%m-%d')\n"
      ]
    },
    {
      "cell_type": "markdown",
      "source": [
        "### Localizando valores faltantes"
      ],
      "metadata": {
        "id": "ZHoPTPeHbGWB"
      }
    },
    {
      "cell_type": "code",
      "source": [
        "training_set.isna().sum()"
      ],
      "metadata": {
        "colab": {
          "base_uri": "https://localhost:8080/"
        },
        "id": "MTk3sZdpjBe-",
        "outputId": "4beede2e-8ac4-4af4-d671-3bb57355c55d"
      },
      "execution_count": 138,
      "outputs": [
        {
          "output_type": "execute_result",
          "data": {
            "text/plain": [
              "Date           0\n",
              "Open         297\n",
              "High         297\n",
              "Low          297\n",
              "Close        297\n",
              "Adj Close    297\n",
              "Volume       297\n",
              "dtype: int64"
            ]
          },
          "metadata": {},
          "execution_count": 138
        }
      ]
    },
    {
      "cell_type": "markdown",
      "source": [
        "### Reemplazando los valores faltantes por la mediana de cada variable"
      ],
      "metadata": {
        "id": "wYBzv7GxbI6N"
      }
    },
    {
      "cell_type": "code",
      "source": [
        "mediana_open=training_set['Open'].median()\n",
        "mediana_open\n",
        "training_set['Open'].fillna(value=mediana_open, inplace=True)"
      ],
      "metadata": {
        "id": "9dMHrCC0j9-d"
      },
      "execution_count": 139,
      "outputs": []
    },
    {
      "cell_type": "code",
      "source": [
        "mediana_high=training_set['High'].median()\n",
        "mediana_high\n",
        "training_set['High'].fillna(value=mediana_high, inplace=True)"
      ],
      "metadata": {
        "id": "Hxe6l0Cfl9OY"
      },
      "execution_count": 140,
      "outputs": []
    },
    {
      "cell_type": "code",
      "source": [
        "mediana_low=training_set['Low'].median()\n",
        "mediana_low\n",
        "training_set['Low'].fillna(value=mediana_low, inplace=True)"
      ],
      "metadata": {
        "id": "HWk14CB_mU0w"
      },
      "execution_count": 141,
      "outputs": []
    },
    {
      "cell_type": "code",
      "source": [
        "mediana_close=training_set['Close'].median()\n",
        "mediana_close\n",
        "training_set['Close'].fillna(value=mediana_close, inplace=True)"
      ],
      "metadata": {
        "id": "vXAw86bwmffN"
      },
      "execution_count": 142,
      "outputs": []
    },
    {
      "cell_type": "code",
      "source": [
        "mediana_adj=training_set['Adj Close'].median()\n",
        "mediana_adj\n",
        "training_set['Adj Close'].fillna(value=mediana_adj, inplace=True)"
      ],
      "metadata": {
        "id": "z-DtU0yemmxc"
      },
      "execution_count": 143,
      "outputs": []
    },
    {
      "cell_type": "code",
      "source": [
        "mediana_volumen=training_set['Volume'].median()\n",
        "mediana_volumen\n",
        "training_set['Volume'].fillna(value=mediana_volumen, inplace=True)"
      ],
      "metadata": {
        "id": "2rhCcYkmmv4_"
      },
      "execution_count": 144,
      "outputs": []
    },
    {
      "cell_type": "markdown",
      "source": [
        "### Ubicando outliers"
      ],
      "metadata": {
        "id": "Rv67IlAHbNeE"
      }
    },
    {
      "cell_type": "code",
      "source": [
        "training_set.boxplot(column=['Close', 'Open', 'Low', 'High', 'Adj Close'], figsize=(8,6), grid=False)"
      ],
      "metadata": {
        "colab": {
          "base_uri": "https://localhost:8080/",
          "height": 392
        },
        "id": "ejHAOAtQakmS",
        "outputId": "3667d3be-6a9b-4183-d546-faa9d380c582"
      },
      "execution_count": 145,
      "outputs": [
        {
          "output_type": "execute_result",
          "data": {
            "text/plain": [
              "<matplotlib.axes._subplots.AxesSubplot at 0x7f319b8a78d0>"
            ]
          },
          "metadata": {},
          "execution_count": 145
        },
        {
          "output_type": "display_data",
          "data": {
            "text/plain": [
              "<Figure size 576x432 with 1 Axes>"
            ],
            "image/png": "[encoded data removed]"
          },
          "metadata": {
            "needs_background": "light"
          }
        }
      ]
    },
    {
      "cell_type": "markdown",
      "source": [
        "### Sin presencia de valores atipicos"
      ],
      "metadata": {
        "id": "LaLbhuckbBoZ"
      }
    },
    {
      "cell_type": "markdown",
      "source": [
        "### Definiendo la variable 'date' como fecha y reorganizando la serie de forma ascendete"
      ],
      "metadata": {
        "id": "xuRKiwY2f_bP"
      }
    },
    {
      "cell_type": "code",
      "execution_count": 146,
      "metadata": {
        "id": "0eT8_hBjo-z9"
      },
      "outputs": [],
      "source": [
        "training_set['Date']=pd.to_datetime(training_set['Date'])\n",
        "training_set= training_set.sort_values(by=\"Date\",ascending=True)"
      ]
    },
    {
      "cell_type": "markdown",
      "source": [
        "### Filtrando la variable 'Date' y creando nuevo data frame con una serie fragmentada, a partir del año 2016."
      ],
      "metadata": {
        "id": "NV9oeCTFbSpk"
      }
    },
    {
      "cell_type": "code",
      "source": [
        "training_set=training_set[(training_set.Date >= '31-12-2015') & (training_set.Date <= '10-12-2022')]"
      ],
      "metadata": {
        "id": "X_hVP9MwzrGE"
      },
      "execution_count": 147,
      "outputs": []
    },
    {
      "cell_type": "code",
      "source": [
        "training_set.head()"
      ],
      "metadata": {
        "colab": {
          "base_uri": "https://localhost:8080/",
          "height": 206
        },
        "id": "ne8r4LO21nFB",
        "outputId": "d5aacfba-9449-429a-8ac8-e3d23090639d"
      },
      "execution_count": 148,
      "outputs": [
        {
          "output_type": "execute_result",
          "data": {
            "text/plain": [
              "           Date       Open       High        Low      Close  Adj Close  \\\n",
              "5317 2016-01-04  20.687891  20.707190  20.051044  20.398415  15.951595   \n",
              "5318 2016-01-05  20.543154  20.697540  20.253677  20.562452  16.079870   \n",
              "5319 2016-01-06  20.543154  20.629995  20.253677  20.350168  15.913866   \n",
              "5320 2016-01-07  19.809814  19.877357  19.279108  19.751919  15.446033   \n",
              "5321 2016-01-08  19.703672  19.790516  19.028229  19.028229  14.880106   \n",
              "\n",
              "         Volume  \n",
              "5317  5677772.0  \n",
              "5318  4159650.0  \n",
              "5319  5486576.0  \n",
              "5320  9343067.0  \n",
              "5321  7963050.0  "
            ],
            "text/html": [
              "\n",
              "  <div id=\"df-27dedc31-0571-4c8e-917a-ab7b3d4230e6\">\n",
              "    <div class=\"colab-df-container\">\n",
              "      <div>\n",
              "<style scoped>\n",
              "    .dataframe tbody tr th:only-of-type {\n",
              "        vertical-align: middle;\n",
              "    }\n",
              "\n",
              "    .dataframe tbody tr th {\n",
              "        vertical-align: top;\n",
              "    }\n",
              "\n",
              "    .dataframe thead th {\n",
              "        text-align: right;\n",
              "    }\n",
              "</style>\n",
              "<table border=\"1\" class=\"dataframe\">\n",
              "  <thead>\n",
              "    <tr style=\"text-align: right;\">\n",
              "      <th></th>\n",
              "      <th>Date</th>\n",
              "      <th>Open</th>\n",
              "      <th>High</th>\n",
              "      <th>Low</th>\n",
              "      <th>Close</th>\n",
              "      <th>Adj Close</th>\n",
              "      <th>Volume</th>\n",
              "    </tr>\n",
              "  </thead>\n",
              "  <tbody>\n",
              "    <tr>\n",
              "      <th>5317</th>\n",
              "      <td>2016-01-04</td>\n",
              "      <td>20.687891</td>\n",
              "      <td>20.707190</td>\n",
              "      <td>20.051044</td>\n",
              "      <td>20.398415</td>\n",
              "      <td>15.951595</td>\n",
              "      <td>5677772.0</td>\n",
              "    </tr>\n",
              "    <tr>\n",
              "      <th>5318</th>\n",
              "      <td>2016-01-05</td>\n",
              "      <td>20.543154</td>\n",
              "      <td>20.697540</td>\n",
              "      <td>20.253677</td>\n",
              "      <td>20.562452</td>\n",
              "      <td>16.079870</td>\n",
              "      <td>4159650.0</td>\n",
              "    </tr>\n",
              "    <tr>\n",
              "      <th>5319</th>\n",
              "      <td>2016-01-06</td>\n",
              "      <td>20.543154</td>\n",
              "      <td>20.629995</td>\n",
              "      <td>20.253677</td>\n",
              "      <td>20.350168</td>\n",
              "      <td>15.913866</td>\n",
              "      <td>5486576.0</td>\n",
              "    </tr>\n",
              "    <tr>\n",
              "      <th>5320</th>\n",
              "      <td>2016-01-07</td>\n",
              "      <td>19.809814</td>\n",
              "      <td>19.877357</td>\n",
              "      <td>19.279108</td>\n",
              "      <td>19.751919</td>\n",
              "      <td>15.446033</td>\n",
              "      <td>9343067.0</td>\n",
              "    </tr>\n",
              "    <tr>\n",
              "      <th>5321</th>\n",
              "      <td>2016-01-08</td>\n",
              "      <td>19.703672</td>\n",
              "      <td>19.790516</td>\n",
              "      <td>19.028229</td>\n",
              "      <td>19.028229</td>\n",
              "      <td>14.880106</td>\n",
              "      <td>7963050.0</td>\n",
              "    </tr>\n",
              "  </tbody>\n",
              "</table>\n",
              "</div>\n",
              "      <button class=\"colab-df-convert\" onclick=\"convertToInteractive('df-27dedc31-0571-4c8e-917a-ab7b3d4230e6')\"\n",
              "              title=\"Convert this dataframe to an interactive table.\"\n",
              "              style=\"display:none;\">\n",
              "        \n",
              "  <svg xmlns=\"http://www.w3.org/2000/svg\" height=\"24px\"viewBox=\"0 0 24 24\"\n",
              "       width=\"24px\">\n",
              "    <path d=\"M0 0h24v24H0V0z\" fill=\"none\"/>\n",
              "    <path d=\"M18.56 5.44l.94 2.06.94-2.06 2.06-.94-2.06-.94-.94-2.06-.94 2.06-2.06.94zm-11 1L8.5 8.5l.94-2.06 2.06-.94-2.06-.94L8.5 2.5l-.94 2.06-2.06.94zm10 10l.94 2.06.94-2.06 2.06-.94-2.06-.94-.94-2.06-.94 2.06-2.06.94z\"/><path d=\"M17.41 7.96l-1.37-1.37c-.4-.4-.92-.59-1.43-.59-.52 0-1.04.2-1.43.59L10.3 9.45l-7.72 7.72c-.78.78-.78 2.05 0 2.83L4 21.41c.39.39.9.59 1.41.59.51 0 1.02-.2 1.41-.59l7.78-7.78 2.81-2.81c.8-.78.8-2.07 0-2.86zM5.41 20L4 18.59l7.72-7.72 1.47 1.35L5.41 20z\"/>\n",
              "  </svg>\n",
              "      </button>\n",
              "      \n",
              "  <style>\n",
              "    .colab-df-container {\n",
              "      display:flex;\n",
              "      flex-wrap:wrap;\n",
              "      gap: 12px;\n",
              "    }\n",
              "\n",
              "    .colab-df-convert {\n",
              "      background-color: #E8F0FE;\n",
              "      border: none;\n",
              "      border-radius: 50%;\n",
              "      cursor: pointer;\n",
              "      display: none;\n",
              "      fill: #1967D2;\n",
              "      height: 32px;\n",
              "      padding: 0 0 0 0;\n",
              "      width: 32px;\n",
              "    }\n",
              "\n",
              "    .colab-df-convert:hover {\n",
              "      background-color: #E2EBFA;\n",
              "      box-shadow: 0px 1px 2px rgba(60, 64, 67, 0.3), 0px 1px 3px 1px rgba(60, 64, 67, 0.15);\n",
              "      fill: #174EA6;\n",
              "    }\n",
              "\n",
              "    [theme=dark] .colab-df-convert {\n",
              "      background-color: #3B4455;\n",
              "      fill: #D2E3FC;\n",
              "    }\n",
              "\n",
              "    [theme=dark] .colab-df-convert:hover {\n",
              "      background-color: #434B5C;\n",
              "      box-shadow: 0px 1px 3px 1px rgba(0, 0, 0, 0.15);\n",
              "      filter: drop-shadow(0px 1px 2px rgba(0, 0, 0, 0.3));\n",
              "      fill: #FFFFFF;\n",
              "    }\n",
              "  </style>\n",
              "\n",
              "      <script>\n",
              "        const buttonEl =\n",
              "          document.querySelector('#df-27dedc31-0571-4c8e-917a-ab7b3d4230e6 button.colab-df-convert');\n",
              "        buttonEl.style.display =\n",
              "          google.colab.kernel.accessAllowed ? 'block' : 'none';\n",
              "\n",
              "        async function convertToInteractive(key) {\n",
              "          const element = document.querySelector('#df-27dedc31-0571-4c8e-917a-ab7b3d4230e6');\n",
              "          const dataTable =\n",
              "            await google.colab.kernel.invokeFunction('convertToInteractive',\n",
              "                                                     [key], {});\n",
              "          if (!dataTable) return;\n",
              "\n",
              "          const docLinkHtml = 'Like what you see? Visit the ' +\n",
              "            '<a target=\"_blank\" href=https://colab.research.google.com/notebooks/data_table.ipynb>data table notebook</a>'\n",
              "            + ' to learn more about interactive tables.';\n",
              "          element.innerHTML = '';\n",
              "          dataTable['output_type'] = 'display_data';\n",
              "          await google.colab.output.renderOutput(dataTable, element);\n",
              "          const docLink = document.createElement('div');\n",
              "          docLink.innerHTML = docLinkHtml;\n",
              "          element.appendChild(docLink);\n",
              "        }\n",
              "      </script>\n",
              "    </div>\n",
              "  </div>\n",
              "  "
            ]
          },
          "metadata": {},
          "execution_count": 148
        }
      ]
    },
    {
      "cell_type": "markdown",
      "source": [
        "### Graficando la serie correspondiente a los datos bursátiles de credit swiss"
      ],
      "metadata": {
        "id": "smuitJd1gLjx"
      }
    },
    {
      "cell_type": "code",
      "execution_count": 149,
      "metadata": {
        "colab": {
          "base_uri": "https://localhost:8080/",
          "height": 501
        },
        "id": "CwqUNuycn9z5",
        "outputId": "7d153cb8-6ea7-4f66-99c8-4a7b1f1e4c61"
      },
      "outputs": [
        {
          "output_type": "display_data",
          "data": {
            "text/plain": [
              "<Figure size 432x288 with 0 Axes>"
            ]
          },
          "metadata": {}
        },
        {
          "output_type": "display_data",
          "data": {
            "text/plain": [
              "<Figure size 576x576 with 1 Axes>"
            ],
            "image/png": "[encoded data removed]"
          },
          "metadata": {
            "needs_background": "light"
          }
        }
      ],
      "source": [
        "plt.suptitle('Datos bursátiles Credit Suisse')\n",
        "figure(figsize=(8,8))\n",
        "plt.plot('Date', 'Close', data=training_set)\n",
        "plt.show()"
      ]
    },
    {
      "cell_type": "markdown",
      "source": [
        "### Se aprecia una tendencia a la baja, con algunas fluctuaciones en los últimos dos años y con un descenso paulatino entre la segunda mitad del 2020 hasta la fecha."
      ],
      "metadata": {
        "id": "GSB3uUjXgVmb"
      }
    },
    {
      "cell_type": "code",
      "execution_count": 150,
      "metadata": {
        "id": "Lu4kYur1qXLT"
      },
      "outputs": [],
      "source": [
        "training_set = training_set.iloc[:,1:2].values\n"
      ]
    },
    {
      "cell_type": "markdown",
      "source": [
        "### Particionando la data en muestra test y muestra train"
      ],
      "metadata": {
        "id": "RcfARUaAgjQn"
      }
    },
    {
      "cell_type": "code",
      "execution_count": 151,
      "metadata": {
        "id": "YOex6e0b20WP"
      },
      "outputs": [],
      "source": [
        "def sliding_windows(data, seq_length):\n",
        "    x = []\n",
        "    y = []\n",
        "\n",
        "    for i in range(len(data)-seq_length-1):\n",
        "        _x = data[i:(i+seq_length)]\n",
        "        _y = data[i+seq_length]\n",
        "        x.append(_x)\n",
        "        y.append(_y)\n",
        "\n",
        "    return np.array(x),np.array(y)\n",
        "\n",
        "sc = MinMaxScaler()\n",
        "training_data = sc.fit_transform(training_set) \n",
        "\n",
        "seq_length = 30  \n",
        "x, y = sliding_windows(training_data, seq_length)\n",
        "\n",
        "train_size = int(len(y) * 0.75)\n",
        "test_size = len(y) - train_size\n",
        "\n",
        "dataX = Variable(torch.Tensor(np.array(x)))\n",
        "dataY = Variable(torch.Tensor(np.array(y)))\n",
        "\n",
        "trainX = Variable(torch.Tensor(np.array(x[0:train_size])))\n",
        "trainY = Variable(torch.Tensor(np.array(y[0:train_size])))\n",
        "\n",
        "testX = Variable(torch.Tensor(np.array(x[train_size:len(x)])))\n",
        "testY = Variable(torch.Tensor(np.array(y[train_size:len(y)])))"
      ]
    },
    {
      "cell_type": "markdown",
      "source": [
        "### Definiendo el modelo de red neuronal LSTM"
      ],
      "metadata": {
        "id": "GJuty1Wagtcs"
      }
    },
    {
      "cell_type": "code",
      "execution_count": 152,
      "metadata": {
        "id": "Ji1xkQHe26UR"
      },
      "outputs": [],
      "source": [
        "class LSTM(nn.Module):\n",
        "\n",
        "    def __init__(self, num_classes, input_size, hidden_size, num_layers):\n",
        "        super(LSTM, self).__init__()\n",
        "        \n",
        "        self.num_classes = num_classes\n",
        "        self.num_layers = num_layers\n",
        "        self.input_size = input_size\n",
        "        self.hidden_size = hidden_size\n",
        "        self.seq_length = seq_length\n",
        "        \n",
        "        \n",
        "        self.lstm = nn.LSTM(input_size=input_size, hidden_size=hidden_size,\n",
        "                            num_layers=num_layers, batch_first=True)\n",
        "        \n",
        "        self.fc = nn.Linear(hidden_size, num_classes)\n",
        "\n",
        "    def forward(self, x):\n",
        "        h_0 = Variable(torch.zeros(\n",
        "            self.num_layers, x.size(0), self.hidden_size))\n",
        "        \n",
        "        c_0 = Variable(torch.zeros(\n",
        "            self.num_layers, x.size(0), self.hidden_size))\n",
        "        \n",
        "        # Propagate input through LSTM\n",
        "        ula, (h_out, _) = self.lstm(x, (h_0, c_0))\n",
        "        \n",
        "        h_out = h_out.view(-1, self.hidden_size)\n",
        "        \n",
        "        out = self.fc(h_out)\n",
        "        \n",
        "        return out"
      ]
    },
    {
      "cell_type": "markdown",
      "source": [
        "### Definiendo los hiperparámetros y graficando la función loss Vs Epoch"
      ],
      "metadata": {
        "id": "vqF9F-oZgxoo"
      }
    },
    {
      "cell_type": "code",
      "execution_count": 153,
      "metadata": {
        "colab": {
          "base_uri": "https://localhost:8080/"
        },
        "id": "bVvQbQ513Cqr",
        "outputId": "02abb422-387b-4adb-fbd0-7f46bf3cff48"
      },
      "outputs": [
        {
          "output_type": "stream",
          "name": "stdout",
          "text": [
            "Epoch  10 loss  0.008817553520202637\n",
            "Epoch  20 loss  0.002537403255701065\n",
            "Epoch  30 loss  0.0012382150162011385\n",
            "Epoch  40 loss  0.0006839928100816905\n",
            "Epoch  50 loss  0.0005727182142436504\n",
            "Epoch  60 loss  0.0005390987498685718\n",
            "Epoch  70 loss  0.0005242846673354506\n",
            "Epoch  80 loss  0.0005096090026199818\n"
          ]
        }
      ],
      "source": [
        "\n",
        "num_epochs = 85\n",
        "input_size = 1\n",
        "hidden_size = 5\n",
        "num_layers = 1\n",
        "\n",
        "num_classes = 1\n",
        "learning_rate = 0.01\n",
        "\n",
        "\n",
        "lstm = LSTM(num_classes, input_size, hidden_size, num_layers)\n",
        "criterion = torch.nn.MSELoss()    # mean-squared error for regression\n",
        "optimizer = torch.optim.Adam(lstm.parameters(), lr=learning_rate)\n",
        "Loss=[]\n",
        "for epoch in range(num_epochs):\n",
        "    outputs = lstm(trainX)\n",
        "    optimizer.zero_grad()\n",
        "    \n",
        "    # obtain the loss function\n",
        "    loss = criterion(outputs, trainY)\n",
        "    Loss.append(loss.item())\n",
        "    \n",
        "    loss.backward()\n",
        "    \n",
        "    optimizer.step()\n",
        "    if epoch % 10 == 0 and epoch !=0: \n",
        "      print(\"Epoch \", epoch, \"loss \", loss.item())"
      ]
    },
    {
      "cell_type": "code",
      "execution_count": 154,
      "metadata": {
        "colab": {
          "base_uri": "https://localhost:8080/",
          "height": 279
        },
        "id": "1LDoKDIxHU7T",
        "outputId": "6202de26-9405-403f-ff13-0c9bfc537199"
      },
      "outputs": [
        {
          "output_type": "display_data",
          "data": {
            "text/plain": [
              "<Figure size 432x288 with 1 Axes>"
            ],
            "image/png": "[encoded data removed]"
          },
          "metadata": {
            "needs_background": "light"
          }
        }
      ],
      "source": [
        "plt.plot(Loss, label=\"loss function\", color='red')\n",
        "plt.xlabel('Epoch')\n",
        "plt.ylabel('loss')\n",
        "plt.show()"
      ]
    },
    {
      "cell_type": "markdown",
      "source": [
        "### Estableciendo las predicciones y comparando estas con los valores reales de la serie, lo que se puede visualizar el en grafico"
      ],
      "metadata": {
        "id": "kHJceKcLg-jm"
      }
    },
    {
      "cell_type": "code",
      "execution_count": 155,
      "metadata": {
        "colab": {
          "base_uri": "https://localhost:8080/",
          "height": 308
        },
        "id": "BSW9Yix63IBF",
        "outputId": "3a2ec1f8-bc95-4018-86cf-5291448782fc"
      },
      "outputs": [
        {
          "output_type": "display_data",
          "data": {
            "text/plain": [
              "<Figure size 432x288 with 1 Axes>"
            ],
            "image/png": "[encoded data removed]"
          },
          "metadata": {
            "needs_background": "light"
          }
        }
      ],
      "source": [
        "lstm.eval()\n",
        "train_predict = lstm(dataX)\n",
        "\n",
        "data_predict = train_predict.data.numpy() \n",
        "dataY_plot = dataY.data.numpy()\n",
        "\n",
        "data_predict = sc.inverse_transform(data_predict)\n",
        "dataY_plot = sc.inverse_transform(dataY_plot)\n",
        "\n",
        "plt.axvline(x=train_size, c='black', linestyle=':')\n",
        "plt.plot(dataY_plot, color='blue', label='real')\n",
        "plt.ylabel('Credit Swiss valor bursatil')\n",
        "plt.xlabel('Date')\n",
        "plt.plot(data_predict, color='orange', label='predicho')\n",
        "plt.legend(loc='upper right')\n",
        "plt.suptitle('Datos bursátiles credit Suisse')\n",
        "plt.savefig('datos bursátiles credit Suisse.png')\n",
        "plt.show()\n"
      ]
    },
    {
      "cell_type": "code",
      "execution_count": 156,
      "metadata": {
        "colab": {
          "base_uri": "https://localhost:8080/"
        },
        "id": "UAAb_OIEm-4G",
        "outputId": "87727db2-bf88-40d0-fdda-cb5c69f7fe0b"
      },
      "outputs": [
        {
          "output_type": "execute_result",
          "data": {
            "text/plain": [
              "0.18092974"
            ]
          },
          "metadata": {},
          "execution_count": 156
        }
      ],
      "source": [
        "mean_squared_error(data_predict, dataY_plot)"
      ]
    },
    {
      "cell_type": "markdown",
      "source": [
        "### Calculando el valor del error cuadrático medio para el modelo de deep learning. Según el valor obtenido, el modelo es muy preciso al momento de estimar, el valor de 0.35 indica que existe poca diferencia entre los valores reales y los valores predichos, lo que indica un gran ajuste en las predicciones."
      ],
      "metadata": {
        "id": "5i_KHXvbhzHl"
      }
    },
    {
      "cell_type": "code",
      "source": [
        "mean_absolute_error(data_predict, dataY_plot)"
      ],
      "metadata": {
        "colab": {
          "base_uri": "https://localhost:8080/"
        },
        "id": "103V_lphdTyP",
        "outputId": "1512fbde-fe83-45b0-bfe7-6569a6b6f483"
      },
      "execution_count": 157,
      "outputs": [
        {
          "output_type": "execute_result",
          "data": {
            "text/plain": [
              "0.3118058"
            ]
          },
          "metadata": {},
          "execution_count": 157
        }
      ]
    },
    {
      "cell_type": "markdown",
      "source": [
        "### El valor del MAE (0.42) confirma la poca diferencia absoluta entre los valores reales Vs los valores predichos, por lo que el modelo aplicado presenta un buen ajuste a los datos."
      ],
      "metadata": {
        "id": "ImXwHd3seBi4"
      }
    }
  ],
  "metadata": {
    "colab": {
      "provenance": [],
      "collapsed_sections": []
    },
    "kernelspec": {
      "display_name": "Python 3",
      "name": "python3"
    },
    "language_info": {
      "name": "python"
    }
  },
  "nbformat": 4,
  "nbformat_minor": 0
}